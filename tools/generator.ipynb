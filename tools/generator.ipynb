{
 "cells": [
  {
   "cell_type": "code",
   "execution_count": 2,
   "metadata": {},
   "outputs": [],
   "source": [
    "from PIL import Image"
   ]
  },
  {
   "cell_type": "code",
   "execution_count": 6,
   "metadata": {},
   "outputs": [],
   "source": [
    "# img link\n",
    "img = Image.open(f\"./favicon.png\")\n",
    "dimensions = [192,512,192,512,60,76,120,152,180,16,32,144,150]\n",
    "names = ['android-chrome-','android-chrome-','android-chrome-maskable-','android-chrome-maskable-','apple-touch-icon-','apple-touch-icon-','apple-touch-icon-','apple-touch-icon-','apple-touch-icon-','favicon-','favicon-','msapplication-icon-','mstile-']\n",
    "\n",
    "for i in range(0,13):\n",
    "    newsize = (dimensions[i],dimensions[i]) \n",
    "    img_resize = img.resize(newsize) \n",
    "    img_resize.save(f'./icons/{names[i]}{dimensions[i]}x{dimensions[i]}.png')"
   ]
  },
  {
   "cell_type": "code",
   "execution_count": 7,
   "metadata": {},
   "outputs": [],
   "source": [
    "img = Image.open(f\"./favicon.png\")\n",
    "newsize = (60,60) \n",
    "img_resize = img.resize(newsize) \n",
    "img_resize.save(f'./icons/apple-touch-icon.png')"
   ]
  }
 ],
 "metadata": {
  "kernelspec": {
   "display_name": "Python 3",
   "language": "python",
   "name": "python3"
  },
  "language_info": {
   "codemirror_mode": {
    "name": "ipython",
    "version": 3
   },
   "file_extension": ".py",
   "mimetype": "text/x-python",
   "name": "python",
   "nbconvert_exporter": "python",
   "pygments_lexer": "ipython3",
   "version": "3.7.6"
  }
 },
 "nbformat": 4,
 "nbformat_minor": 2
}
